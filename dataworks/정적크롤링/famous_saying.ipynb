{
 "cells": [
  {
   "cell_type": "code",
   "execution_count": 12,
   "metadata": {},
   "outputs": [
    {
     "name": "stdout",
     "output_type": "stream",
     "text": [
      "[<small class=\"author\" itemprop=\"author\">Albert Einstein</small>, <small class=\"author\" itemprop=\"author\">J.K. Rowling</small>, <small class=\"author\" itemprop=\"author\">Albert Einstein</small>, <small class=\"author\" itemprop=\"author\">Jane Austen</small>, <small class=\"author\" itemprop=\"author\">Marilyn Monroe</small>, <small class=\"author\" itemprop=\"author\">Albert Einstein</small>, <small class=\"author\" itemprop=\"author\">André Gide</small>, <small class=\"author\" itemprop=\"author\">Thomas A. Edison</small>, <small class=\"author\" itemprop=\"author\">Eleanor Roosevelt</small>, <small class=\"author\" itemprop=\"author\">Steve Martin</small>]\n"
     ]
    },
    {
     "data": {
      "text/plain": [
       "['/author/Albert-Einstein',\n",
       " '/author/J-K-Rowling',\n",
       " '/author/Albert-Einstein',\n",
       " '/author/Jane-Austen',\n",
       " '/author/Marilyn-Monroe',\n",
       " '/author/Albert-Einstein',\n",
       " '/author/Andre-Gide',\n",
       " '/author/Thomas-A-Edison',\n",
       " '/author/Eleanor-Roosevelt',\n",
       " '/author/Steve-Martin']"
      ]
     },
     "execution_count": 12,
     "metadata": {},
     "output_type": "execute_result"
    }
   ],
   "source": [
    "import requests as req\n",
    "from bs4 import BeautifulSoup\n",
    "\n",
    "url = \"https://quotes.toscrape.com/\"\n",
    "res = req.get(url)\n",
    "# print(res.text)\n",
    "\n",
    "html = BeautifulSoup(res.text, 'html.parser')\n",
    "\n",
    "quote_div = html.find_all('div', class_=\"quote\")\n",
    "# print(quote_div)\n",
    "\n",
    "# 명언 추출\n",
    "# quote_span = html.find_all('span', class_=\"text\")\n",
    "# print(quote_span)\n",
    "\n",
    "quote_text = html.select('div.quote > span.text')\n",
    "# print(quote_text)\n",
    "# print(len(quote_text))\n",
    "# print(quote_text[0].text)\n",
    "\n",
    "# for quote in quote_text:\n",
    "#     print(quote.text)\n",
    "\n",
    "# 리스트 내포\n",
    "\n",
    "'''a = []\n",
    "for i in quote_text:\n",
    "    a.append(i.text)\n",
    "print(a)'''\n",
    "\n",
    "[i.text for i in quote_text]\n",
    "\n",
    "# 명언 말한 사람\n",
    "quote_author = html.select('div.quote > span > small.author')\n",
    "print(quote_author)\n",
    "\n",
    "[i.text for i in quote_author]\n",
    "\n",
    "# 말한 사람 링크\n",
    "quote_link = html.select('div.quote > span > a')\n",
    "# print(quote_link)\n",
    "# print(quote_link[0].attrs) # attrs 속성 - 딕셔너리(키로 검색해서 값을 안다)\n",
    "# print(quote_link[0]['href'])\n",
    "\n",
    "[i['href'] for i in quote_link]"
   ]
  }
 ],
 "metadata": {
  "kernelspec": {
   "display_name": "base",
   "language": "python",
   "name": "python3"
  },
  "language_info": {
   "codemirror_mode": {
    "name": "ipython",
    "version": 3
   },
   "file_extension": ".py",
   "mimetype": "text/x-python",
   "name": "python",
   "nbconvert_exporter": "python",
   "pygments_lexer": "ipython3",
   "version": "3.11.7"
  }
 },
 "nbformat": 4,
 "nbformat_minor": 2
}
