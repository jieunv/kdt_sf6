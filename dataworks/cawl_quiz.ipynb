{
 "cells": [
  {
   "cell_type": "code",
   "execution_count": 22,
   "metadata": {},
   "outputs": [
    {
     "name": "stdout",
     "output_type": "stream",
     "text": [
      "관람시간\n",
      "\n",
      "\n",
      "월/화/목/금/일 10:00 ~ 18:00\n",
      "수/토 10:00 ~ 21:00\n",
      "   * 입장 마감은 폐관30분 전까지\n",
      "관람료\n",
      "\n",
      "\n",
      "무료 특별전시는 유료\n"
     ]
    }
   ],
   "source": [
    "# 국립중앙박물관 - 관람시간, 관람료 가져오기\n",
    "import requests\n",
    "from bs4 import BeautifulSoup\n",
    "\n",
    "url = \"https://www.museum.go.kr/site/main/home\"\n",
    "response = requests.get(url)\n",
    "# print(response.text)\n",
    "\n",
    "soup = BeautifulSoup(response.text, 'html.parser')\n",
    "# print(soup)\n",
    "first_li = soup.select_one(\"li.main-info-area\")\n",
    "# print(first_li)\n",
    "\n",
    "lis = soup.select(\"div.main-section-1 > ul > li\")\n",
    "# print(lis.text)\n",
    "\n",
    "print(lis[0].text.strip())\n",
    "print(lis[-1].text.strip())\n",
    "\n",
    "import requests\n",
    "from bs4 import BeautifulSoup\n",
    "\n",
    "url = \"https://www.museum.go.kr/site/main/home\"\n",
    "response = requests.get(url)\n",
    "# print(response.text)\n",
    "\n",
    "soup = BeautifulSoup(response.text, 'html.parser')\n",
    "# print(soup)\n",
    "first_li = soup.select_one(\"li.main-info-area\")\n",
    "# print(first_li)\n",
    "\n",
    "lis = soup.select(\"div.main-section-1 > ul > li\")\n",
    "# print(lis.text)\n",
    "\n",
    "print(lis[0].text.strip())\n",
    "print(lis[-1].text.strip())\n",
    "\n",
    "# 관람시간\n",
    "# info_time = html.select_one(\"li.info\")\n",
    "# print(info_time.text.strip())\n",
    "\n",
    "# 관람료\n",
    "# admission = html.select_one(\"li.admission\")\n",
    "# print(addmission.text.strip())\n",
    "\n",
    "\n",
    "\n",
    "\n",
    "\n",
    "\n"
   ]
  }
 ],
 "metadata": {
  "kernelspec": {
   "display_name": "base",
   "language": "python",
   "name": "python3"
  },
  "language_info": {
   "codemirror_mode": {
    "name": "ipython",
    "version": 3
   },
   "file_extension": ".py",
   "mimetype": "text/x-python",
   "name": "python",
   "nbconvert_exporter": "python",
   "pygments_lexer": "ipython3",
   "version": "3.11.7"
  }
 },
 "nbformat": 4,
 "nbformat_minor": 2
}
