{
 "cells": [
  {
   "cell_type": "code",
   "execution_count": 4,
   "metadata": {},
   "outputs": [
    {
     "name": "stdout",
     "output_type": "stream",
     "text": [
      "hello\n"
     ]
    }
   ],
   "source": [
    "print(\"hello\")"
   ]
  },
  {
   "cell_type": "markdown",
   "metadata": {},
   "source": [
    "### 변수의 선언과 활용\n",
    "\n",
    "#### 자료형과 연산"
   ]
  },
  {
   "cell_type": "code",
   "execution_count": 8,
   "metadata": {},
   "outputs": [
    {
     "name": "stdout",
     "output_type": "stream",
     "text": [
      "행운을 빌어요\n",
      "apple\n"
     ]
    }
   ],
   "source": [
    "msg = \"행운을 빌어요\"\n",
    "print(msg)\n",
    "\n",
    "cart = 'apple'\n",
    "print(cart)"
   ]
  },
  {
   "cell_type": "code",
   "execution_count": 14,
   "metadata": {},
   "outputs": [
    {
     "name": "stdout",
     "output_type": "stream",
     "text": [
      "True\n",
      "False\n",
      "쌀\n",
      "커피\n",
      "두부\n",
      "콩나물\n",
      "['쌀', '커피', '두부']\n"
     ]
    }
   ],
   "source": [
    "carts = ['쌀', '커피', '두부', '콩나물']\n",
    "print('커피' in carts)\n",
    "print('마늘' in carts)\n",
    "\n",
    "for cart in carts:\n",
    "    print(cart)\n",
    "\n",
    "print(carts[:3]) #0~2번 인덱스"
   ]
  },
  {
   "cell_type": "markdown",
   "metadata": {},
   "source": [
    "### 모듈 사용하기"
   ]
  },
  {
   "cell_type": "code",
   "execution_count": 20,
   "metadata": {},
   "outputs": [
    {
     "name": "stdout",
     "output_type": "stream",
     "text": [
      "13\n",
      "12\n",
      "0.46469406253841583\n",
      "7\n",
      "6\n",
      "5\n",
      "2\n",
      "6\n",
      "6\n",
      "2\n",
      "4\n",
      "1\n",
      "1\n",
      "6\n"
     ]
    }
   ],
   "source": [
    "import math \n",
    "import random\n",
    "\n",
    "v1 = math.ceil(12.56)\n",
    "print(v1)\n",
    "\n",
    "v2 = math.floor(12.56)\n",
    "print(v2)\n",
    "\n",
    "v3 = random.random() # 0.0 <= v3 < 1.0\n",
    "print(v3)\n",
    "\n",
    "v4 = random.randint(1,10) # 1~ 10 무작위 수\n",
    "print(v4)\n",
    "\n",
    "# 주사위 10번 던지기\n",
    "for i in range(10):\n",
    "    dice = random.randint(1, 6)\n",
    "    print(dice)"
   ]
  },
  {
   "cell_type": "code",
   "execution_count": 7,
   "metadata": {},
   "outputs": [
    {
     "name": "stdout",
     "output_type": "stream",
     "text": [
      "5\n",
      "5\n"
     ]
    }
   ],
   "source": [
    "# 절대값 함수\n",
    "\n",
    "def myabs(a):\n",
    "    if a < 0:\n",
    "        return -a\n",
    "    else:\n",
    "        return a\n",
    "\n",
    "print(myabs(5))\n",
    "print(myabs(-5))\n",
    "\n",
    "# print(abs(-5))\n",
    "# print(abs(5))\n"
   ]
  }
 ],
 "metadata": {
  "kernelspec": {
   "display_name": "base",
   "language": "python",
   "name": "python3"
  },
  "language_info": {
   "codemirror_mode": {
    "name": "ipython",
    "version": 3
   },
   "file_extension": ".py",
   "mimetype": "text/x-python",
   "name": "python",
   "nbconvert_exporter": "python",
   "pygments_lexer": "ipython3",
   "version": "3.11.7"
  }
 },
 "nbformat": 4,
 "nbformat_minor": 2
}
