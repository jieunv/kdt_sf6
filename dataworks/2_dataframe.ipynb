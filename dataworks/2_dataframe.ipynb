{
 "cells": [
  {
   "cell_type": "markdown",
   "id": "059f90e8-a626-45c4-a40f-0b87c55f6552",
   "metadata": {},
   "source": [
    "##### pandas - DataFrame 클래스 : 행(row)과 열(column)로 이루어진 2차원 리스트"
   ]
  },
  {
   "cell_type": "code",
   "execution_count": 6,
   "id": "85710b0e-da1b-4a9f-9e0e-70a99195e0da",
   "metadata": {},
   "outputs": [
    {
     "data": {
      "text/html": [
       "<div>\n",
       "<style scoped>\n",
       "    .dataframe tbody tr th:only-of-type {\n",
       "        vertical-align: middle;\n",
       "    }\n",
       "\n",
       "    .dataframe tbody tr th {\n",
       "        vertical-align: top;\n",
       "    }\n",
       "\n",
       "    .dataframe thead th {\n",
       "        text-align: right;\n",
       "    }\n",
       "</style>\n",
       "<table border=\"1\" class=\"dataframe\">\n",
       "  <thead>\n",
       "    <tr style=\"text-align: right;\">\n",
       "      <th></th>\n",
       "      <th>영희</th>\n",
       "      <th>철수</th>\n",
       "    </tr>\n",
       "  </thead>\n",
       "  <tbody>\n",
       "    <tr>\n",
       "      <th>2018</th>\n",
       "      <td>143</td>\n",
       "      <td>165</td>\n",
       "    </tr>\n",
       "    <tr>\n",
       "      <th>2019</th>\n",
       "      <td>150</td>\n",
       "      <td>172</td>\n",
       "    </tr>\n",
       "    <tr>\n",
       "      <th>2020</th>\n",
       "      <td>157</td>\n",
       "      <td>175</td>\n",
       "    </tr>\n",
       "    <tr>\n",
       "      <th>2021</th>\n",
       "      <td>160</td>\n",
       "      <td>180</td>\n",
       "    </tr>\n",
       "  </tbody>\n",
       "</table>\n",
       "</div>"
      ],
      "text/plain": [
       "       영희   철수\n",
       "2018  143  165\n",
       "2019  150  172\n",
       "2020  157  175\n",
       "2021  160  180"
      ]
     },
     "execution_count": 6,
     "metadata": {},
     "output_type": "execute_result"
    }
   ],
   "source": [
    "import pandas as pd\n",
    "# 1. 시리즈 결합해서 데이터프레임 만들기\n",
    "index=[\"2018\", \"2019\", \"2020\", \"2021\"]\n",
    "\n",
    "younghee = pd.Series([143, 150, 157, 160], index=index)\n",
    "cheolsu = pd.Series([165, 172, 175, 180], index=index)\n",
    "\n",
    "growth = pd.DataFrame({\n",
    "    '영희': younghee,\n",
    "    '철수': cheolsu\n",
    "})\n",
    "\n",
    "growth"
   ]
  },
  {
   "cell_type": "code",
   "execution_count": 42,
   "id": "f3ff237d-5c6b-4499-b2df-834e78295d82",
   "metadata": {},
   "outputs": [
    {
     "name": "stdout",
     "output_type": "stream",
     "text": [
      "       영희   철수\n",
      "2018  143  165\n",
      "2019  150  172\n",
      "2020  157  175\n",
      "2021  160  180\n",
      "영희    157\n",
      "철수    175\n",
      "Name: 2020, dtype: int64\n",
      "영희    157\n",
      "철수    175\n",
      "Name: 2020, dtype: int64\n"
     ]
    }
   ],
   "source": [
    "# 일반적 데이터프레임 만들기\n",
    "\n",
    "data = {\n",
    "    '영희': [143, 150, 157, 160],\n",
    "    '철수': [165, 172, 175, 180]\n",
    "}\n",
    "\n",
    "growth = pd.DataFrame(data, index=index)\n",
    "print(growth)\n",
    "# print(growth.columns) # 칼럼 - 인덱스로 출력됨\n",
    "# print(growth.values)  # 칼럼에 대한 값\n",
    "\n",
    "# 열 선택\n",
    "# print(growth['철수'])\n",
    "print(growth['영희','철수'])\n",
    "\n",
    "# 열이름도 출력\n",
    "# print(growth[['철수']])\n",
    "\n",
    "# 행 선택\n",
    "# Loc[행(문자)], iloc[인덱스(숫자)]\n",
    "print(growth.loc['2020'])\n",
    "print(growth.iloc[2])\n",
    "\n",
    "# 다중 행 선택\n",
    "print(growth.loc[['2020', '2021']])\n",
    "print(growth.loc[[2,3]]) #[[]] - 괄호를 2개 하는 이유: 안에는 인덱스 괄호, 밖은 리스트 괄호"
   ]
  },
  {
   "cell_type": "code",
   "execution_count": 50,
   "id": "bcc5fa0c-2b63-48ab-8278-d8b8948ab7b1",
   "metadata": {},
   "outputs": [
    {
     "name": "stdout",
     "output_type": "stream",
     "text": [
      "       영희   철수\n",
      "2018  143  165\n",
      "2019  150  172\n",
      "2020  157  175\n",
      "2021  160  180\n",
      "175\n",
      "175\n"
     ]
    }
   ],
   "source": [
    "\n",
    "data = {\n",
    "    '영희': [143, 150, 157, 160],\n",
    "    '철수': [165, 172, 175, 180]\n",
    "}\n",
    "\n",
    "growth = pd.DataFrame(data, index=index)\n",
    "print(growth)\n",
    "\n",
    "# 특정 요소 1개 선택\n",
    "# Loc[행(문자), 열(문자)], iloc[행(숫자), 행(숫자)]\n",
    "print(growth.loc['2020', '철수'])\n",
    "print(growth.iloc[2,1])"
   ]
  },
  {
   "cell_type": "code",
   "execution_count": 86,
   "id": "266ea683-c869-4b5f-9bc9-606aa1f83cfb",
   "metadata": {},
   "outputs": [
    {
     "name": "stdout",
     "output_type": "stream",
     "text": [
      "       영희   철수\n",
      "2018  143  165\n",
      "2019  150  172\n",
      "2020  157  175\n",
      "2021  160  180\n",
      "2022  163  183\n",
      "       영희   철수\n",
      "2018  143  165\n",
      "2019  150  172\n",
      "2021  160  180\n",
      "2022  163  183\n"
     ]
    }
   ],
   "source": [
    "import pandas as pd\n",
    "# 1. 시리즈 결합해서 데이터프레임 만들기\n",
    "index=[\"2018\", \"2019\", \"2020\", \"2021\"]\n",
    "\n",
    "data = {\n",
    "    '영희': [143, 150, 157, 160],\n",
    "    '철수': [165, 172, 175, 180]\n",
    "}\n",
    "\n",
    "growth = pd.DataFrame(data, index=index)\n",
    "# print(growth)\n",
    "\n",
    "# 특정 요소 1개 선택\n",
    "# Loc[행(문자), 열(문자)], iloc[행(숫자), 행(숫자)]\n",
    "# print(growth.loc['2020', '철수'])\n",
    "# print(growth.iloc[2,1])\n",
    "\n",
    "# 행 추가 - 2022년\n",
    "growth.loc[2022] = [163 , 183]\n",
    "print(growth)\n",
    "# 행 삭제 - 2020년\n",
    "# 복사 - 원본 유지(깊은 복사 - 원본과 별도로 삭제, 수정) - copy()\n",
    "growth2 = growth.copy()\n",
    "growth2 = growth.drop(\"2020\") # 행 삭제\n",
    "print(growth2)"
   ]
  },
  {
   "cell_type": "code",
   "execution_count": 58,
   "id": "1c04aac4-f696-428c-997f-2c872a9079e9",
   "metadata": {},
   "outputs": [
    {
     "name": "stdout",
     "output_type": "stream",
     "text": [
      "    국어  수학   영어\n",
      "재천  90  80   85\n",
      "선영  80  75   95\n",
      "일성  70  95  100\n"
     ]
    }
   ],
   "source": [
    "import pandas as pd\n",
    "\n",
    "index = ['재천','선영','일성']\n",
    "\n",
    "data = {\n",
    "    '국어' : [90, 80, 70],\n",
    "    '수학' : [80, 75, 95],\n",
    "    '영어' : [85, 95, 100]\n",
    "}\n",
    "df = pd.DataFrame(data, index=index)\n",
    "print(df)"
   ]
  },
  {
   "cell_type": "code",
   "execution_count": 92,
   "id": "45eb7dd5-ad50-4a1d-aaae-5da41f8c56bc",
   "metadata": {},
   "outputs": [
    {
     "name": "stdout",
     "output_type": "stream",
     "text": [
      "       영희   철수\n",
      "2018  143  165\n",
      "2019  150  172\n",
      "2020  157  175\n",
      "2021  160  180\n"
     ]
    }
   ],
   "source": [
    "# csv 파일 만들기\n",
    "import pandas as pd\n",
    "\n",
    "index=[\"2018\", \"2019\", \"2020\", \"2021\"]\n",
    "\n",
    "data = {\n",
    "    '영희': [143, 150, 157, 160],\n",
    "    '철수': [165, 172, 175, 180]\n",
    "}\n",
    "\n",
    "growth = pd.DataFrame(data, index=index)\n",
    "# growth.to_csv('./datas/growth.csv')\n",
    "\n",
    "# CSV 파일 읽기 - to_read_csv(경로)\n",
    "growth = pd.read_csv('./datas/growth.csv', index_col=0)\n",
    "print(growth)"
   ]
  }
 ],
 "metadata": {
  "kernelspec": {
   "display_name": "Python 3 (ipykernel)",
   "language": "python",
   "name": "python3"
  },
  "language_info": {
   "codemirror_mode": {
    "name": "ipython",
    "version": 3
   },
   "file_extension": ".py",
   "mimetype": "text/x-python",
   "name": "python",
   "nbconvert_exporter": "python",
   "pygments_lexer": "ipython3",
   "version": "3.11.7"
  }
 },
 "nbformat": 4,
 "nbformat_minor": 5
}
