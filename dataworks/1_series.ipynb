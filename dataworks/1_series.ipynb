{
 "cells": [
  {
   "cell_type": "markdown",
   "id": "47c6011f-416a-4367-9357-1c24b8ad8ba8",
   "metadata": {},
   "source": [
    "##### Series 클래스 - 데이터(리스트, 튜플, 딕셔너리)가 순차적으로 나열된 1차원 리스트의 형태를 갖는다."
   ]
  },
  {
   "cell_type": "code",
   "execution_count": 8,
   "id": "f022803c-aa5e-452e-a0c8-8327d08d22a0",
   "metadata": {},
   "outputs": [
    {
     "name": "stdout",
     "output_type": "stream",
     "text": [
      "a    1\n",
      "b    2\n",
      "c    3\n",
      "dtype: int64\n",
      "<class 'pandas.core.series.Series'>\n"
     ]
    }
   ],
   "source": [
    "import pandas as pd\n",
    "# 딕셔너리로 시리즈 만들기(키가 인덱스)\n",
    "\n",
    "dict_data = {'a': 1, 'b': 2, 'c': 3}\n",
    "\n",
    "#Series(데이터, 인덱스(행의 이름표))\n",
    "sr = pd.Series(dict_data)\n",
    "print(sr)\n",
    "print(type(sr))"
   ]
  },
  {
   "cell_type": "code",
   "execution_count": 14,
   "id": "09b7f745-8dc3-4a98-aa80-a9021fea8332",
   "metadata": {},
   "outputs": [
    {
     "name": "stdout",
     "output_type": "stream",
     "text": [
      "0    2024-08-22\n",
      "1            10\n",
      "2         apple\n",
      "3          True\n",
      "dtype: object\n",
      "RangeIndex(start=0, stop=4, step=1)\n",
      "['2024-08-22' 10 'apple' True]\n"
     ]
    }
   ],
   "source": [
    "# 리스트로 시리즈 만들기(기본 인덱스(0, 1..))\n",
    "list_data = ['2024-08-22', 10, 'apple', True]\n",
    "\n",
    "# 인덱스를 지정하지 않은 경우\n",
    "sr = pd.Series(list_data)\n",
    "print(sr)\n",
    "print(sr.index) #인덱스 출력\n",
    "print(sr.values) # 데이터 자료(값)"
   ]
  },
  {
   "cell_type": "code",
   "execution_count": 1,
   "id": "65e39f1f-b4f0-4a88-87f4-d4c1538819a6",
   "metadata": {},
   "outputs": [
    {
     "name": "stdout",
     "output_type": "stream",
     "text": [
      "2018    143\n",
      "2019    150\n",
      "2020    157\n",
      "2021    160\n",
      "Name: Height, dtype: int64\n",
      "150\n",
      "143\n"
     ]
    }
   ],
   "source": [
    "import pandas as pd\n",
    "\n",
    "height = [143, 150, 157, 160]\n",
    "index=[\"2018\", \"2019\", \"2020\", \"2021\"]\n",
    "\n",
    "# 인덱스를 지정한 경우(외부에 지정)\n",
    "growth = pd.Series(height, index=index, name='Height')\n",
    "print(growth)\n",
    "# print(growth['2019'])\n",
    "# Loc[행(문자)], iloc[인덱스(숫자)]\n",
    "print(growth.loc['2019'])\n",
    "print(growth.iloc[1])"
   ]
  },
  {
   "cell_type": "code",
   "execution_count": null,
   "id": "944b226f-8474-47eb-a81e-e786dabed545",
   "metadata": {},
   "outputs": [],
   "source": [
    "import pandas as pd\n",
    "\n",
    "height = [143, 150, 157, 160]\n",
    "\n",
    "# 인덱스를 지정한 경우(내부에 지정)\n",
    "growth = pd.Series(height, index=[\"2018\", \"2019\", \"2020\", \"2021\"])\n",
    "print(growth)\n",
    "print(growth['2019'])"
   ]
  },
  {
   "cell_type": "code",
   "execution_count": 13,
   "id": "5fc77b66-8ae0-4f7a-b988-1a36cbddd896",
   "metadata": {},
   "outputs": [
    {
     "name": "stdout",
     "output_type": "stream",
     "text": [
      "밀가루     4 cups\n",
      "우유      1 cups\n",
      "계란     2 large\n",
      "참치캔      1 can\n",
      "Name: Dinner, dtype: object\n"
     ]
    }
   ],
   "source": [
    "import pandas as pd\n",
    "\n",
    "yang = ['4 cups','1 cups','2 large','1 can']\n",
    "index=['밀가루','우유','계란','참치캔']\n",
    "\n",
    "growth = pd.Series(yang, index=index, name='Dinner')\n",
    "print(growth)\n"
   ]
  }
 ],
 "metadata": {
  "kernelspec": {
   "display_name": "Python 3 (ipykernel)",
   "language": "python",
   "name": "python3"
  },
  "language_info": {
   "codemirror_mode": {
    "name": "ipython",
    "version": 3
   },
   "file_extension": ".py",
   "mimetype": "text/x-python",
   "name": "python",
   "nbconvert_exporter": "python",
   "pygments_lexer": "ipython3",
   "version": "3.11.7"
  }
 },
 "nbformat": 4,
 "nbformat_minor": 5
}
